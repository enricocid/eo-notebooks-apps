{
 "cells": [
  {
   "cell_type": "code",
   "execution_count": null,
   "metadata": {},
   "outputs": [],
   "source": [
    "import os\n",
    "import json\n",
    "import xarray as xr\n",
    "import datetime as dt\n",
    "import rioxarray as rio"
   ]
  },
  {
   "cell_type": "code",
   "execution_count": null,
   "metadata": {},
   "outputs": [],
   "source": [
    "# Sentinel-2 band names\n",
    "band_names = [\"B01\", \"B02\", \"B03\", \"B04\", \"B05\", \"B06\", \"B07\", \"B08\", \"B8A\", \"B09\", \"B10\", \"B11\", \"B12\"]"
   ]
  },
  {
   "cell_type": "code",
   "execution_count": null,
   "metadata": {},
   "outputs": [],
   "source": [
    "time_idx = []\n",
    "datasets = []\n",
    "for folder, _, filenames in os.walk(\"output/s2_data\"):\n",
    "    if filenames:\n",
    "        meta = os.path.join(folder, filenames[0])\n",
    "        tiff = os.path.join(folder, filenames[1])\n",
    "\n",
    "        with open(meta) as f:\n",
    "            data = json.load(f)\n",
    "        \n",
    "        from_time = data[\"request\"][\"payload\"][\"input\"][\"data\"][0][\"dataFilter\"][\"timeRange\"][\"from\"]\n",
    "        ds_name = from_time.split(\"T\")[0]\n",
    "        \n",
    "        time = dt.datetime.strptime(ds_name, '%Y-%m-%d')\n",
    "        \n",
    "        ds = rio.open_rasterio(tiff)\n",
    "        ds.name = ds_name\n",
    "        ds[\"band\"] = band_names\n",
    "        ds.rio.write_crs(\"epsg:4326\", inplace=True)\n",
    "        \n",
    "        # ds = ds.rio.reproject(\"EPSG:3857\")\n",
    "\n",
    "        time_idx.append(time)\n",
    "        datasets.append(ds)"
   ]
  },
  {
   "cell_type": "code",
   "execution_count": null,
   "metadata": {},
   "outputs": [],
   "source": [
    "time_idx = sorted(time_idx)"
   ]
  },
  {
   "cell_type": "code",
   "execution_count": null,
   "metadata": {},
   "outputs": [],
   "source": [
    "output_ds = xr.concat(datasets, dim=xr.Variable('time', sorted(time_idx)))\n",
    "output_ds.name = \"values\"\n",
    "output_ds[\"time\"] = output_ds.indexes['time'].normalize()"
   ]
  },
  {
   "cell_type": "code",
   "execution_count": null,
   "metadata": {},
   "outputs": [],
   "source": [
    "output_ds.to_netcdf(\"output/s2_data.nc\")"
   ]
  }
 ],
 "metadata": {
  "kernelspec": {
   "display_name": "Python 3",
   "language": "python",
   "name": "python3"
  },
  "language_info": {
   "codemirror_mode": {
    "name": "ipython",
    "version": 3
   },
   "file_extension": ".py",
   "mimetype": "text/x-python",
   "name": "python",
   "nbconvert_exporter": "python",
   "pygments_lexer": "ipython3",
   "version": "3.8.16"
  },
  "orig_nbformat": 4
 },
 "nbformat": 4,
 "nbformat_minor": 2
}
