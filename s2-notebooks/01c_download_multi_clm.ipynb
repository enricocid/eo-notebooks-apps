{
 "cells": [
  {
   "cell_type": "code",
   "execution_count": null,
   "metadata": {},
   "outputs": [],
   "source": [
    "\"\"\"\n",
    "Reference:\n",
    "https://sentinelhub-py.readthedocs.io/en/latest/examples/process_request.html\n",
    "https://sentinelhub-py.readthedocs.io/en/latest/examples/data_search.html#Combine-Catalog-API-with-Process-API\n",
    "\"\"\""
   ]
  },
  {
   "cell_type": "code",
   "execution_count": null,
   "metadata": {},
   "outputs": [],
   "source": [
    "import datetime as dt\n",
    "\n",
    "from sentinelhub import (\n",
    "    BBox,\n",
    "    bbox_to_dimensions,\n",
    "    CRS,\n",
    "    DataCollection,\n",
    "    filter_times,  \n",
    "    MimeType,\n",
    "    MosaickingOrder,\n",
    "    SentinelHubCatalog,\n",
    "    SentinelHubRequest,\n",
    "    SHConfig\n",
    "    )"
   ]
  },
  {
   "cell_type": "code",
   "execution_count": null,
   "metadata": {},
   "outputs": [],
   "source": [
    "# Load the credentials\n",
    "\n",
    "from sentinelhub import SHConfig\n",
    "\n",
    "config = SHConfig()\n",
    "\n",
    "if not config.sh_client_id or not config.sh_client_secret:\n",
    "    print(\"Warning! To use Process API, please provide the credentials (OAuth client ID and client secret).\")"
   ]
  },
  {
   "cell_type": "code",
   "execution_count": null,
   "metadata": {},
   "outputs": [],
   "source": [
    "data_collection = DataCollection.SENTINEL2_L1C"
   ]
  },
  {
   "cell_type": "code",
   "execution_count": null,
   "metadata": {},
   "outputs": [],
   "source": [
    "bounding_box_wgs84 = (12.993805, 42.004331, 13.127701, 42.120625)"
   ]
  },
  {
   "cell_type": "code",
   "execution_count": null,
   "metadata": {},
   "outputs": [],
   "source": [
    "resolution=20\n",
    "search_bbox = BBox(bounding_box_wgs84, crs=CRS.WGS84).buffer(0.2)\n",
    "bbox_size = bbox_to_dimensions(search_bbox, resolution)\n",
    "search_time_interval = (dt.datetime(2022, 1, 1), dt.datetime(2022, 12, 31))"
   ]
  },
  {
   "cell_type": "code",
   "execution_count": null,
   "metadata": {},
   "outputs": [],
   "source": [
    "# Get unique acquisitions dates\n",
    "catalog = SentinelHubCatalog(config=config)\n",
    "search_iterator = catalog.search(\n",
    "    DataCollection.SENTINEL2_L1C,\n",
    "    bbox=search_bbox,\n",
    "    time=search_time_interval,\n",
    "    filter=\"eo:cloud_cover < 5\",\n",
    "    fields={\"include\": [\"id\", \"properties.datetime\", \"properties.eo:cloud_cover\"], \"exclude\": []},\n",
    ")\n",
    "time_difference = dt.timedelta(hours=1)\n",
    "all_timestamps = search_iterator.get_timestamps()\n",
    "unique_acquisitions = filter_times(all_timestamps, time_difference)"
   ]
  },
  {
   "cell_type": "code",
   "execution_count": null,
   "metadata": {},
   "outputs": [],
   "source": [
    "evalscript = \"\"\"\n",
    "    //VERSION=3\n",
    "\n",
    "    function setup() {\n",
    "        return {\n",
    "            input: [{\n",
    "                bands: [\"B01\",\"B02\",\"B03\",\"B04\",\"B05\",\"B06\",\"B07\",\"B08\",\"B8A\",\"B09\",\"B10\",\"B11\",\"B12\", \"CLM\"],\n",
    "                units: \"DN\"\n",
    "            }],\n",
    "            output: {\n",
    "                bands: 14,\n",
    "                sampleType: \"INT16\"\n",
    "            }\n",
    "        };\n",
    "    }\n",
    "\n",
    "    function evaluatePixel(sample) {\n",
    "        return [sample.B01,\n",
    "                sample.B02,\n",
    "                sample.B03,\n",
    "                sample.B04,\n",
    "                sample.B05,\n",
    "                sample.B06,\n",
    "                sample.B07,\n",
    "                sample.B08,\n",
    "                sample.B8A,\n",
    "                sample.B09,\n",
    "                sample.B10,\n",
    "                sample.B11,\n",
    "                sample.B12,\n",
    "                sample.CLM];\n",
    "    }\n",
    "\"\"\""
   ]
  },
  {
   "cell_type": "code",
   "execution_count": null,
   "metadata": {},
   "outputs": [],
   "source": [
    "# Download the data\n",
    "\n",
    "for timestamp in unique_acquisitions:\n",
    "    request = SentinelHubRequest(\n",
    "        data_folder=\"output/s2_data\",\n",
    "        evalscript=evalscript,\n",
    "        input_data=[\n",
    "            SentinelHubRequest.input_data(\n",
    "                data_collection=DataCollection.SENTINEL2_L1C,\n",
    "                time_interval=(timestamp - time_difference, timestamp + time_difference),\n",
    "                maxcc=0.05\n",
    "            )\n",
    "        ],\n",
    "        responses=[SentinelHubRequest.output_response(\"default\", MimeType.TIFF)],\n",
    "        bbox=search_bbox,\n",
    "        size=bbox_size,\n",
    "        config=config,\n",
    "    )\n",
    "    request.save_data()"
   ]
  }
 ],
 "metadata": {
  "kernelspec": {
   "display_name": "Python 3",
   "language": "python",
   "name": "python3"
  },
  "language_info": {
   "codemirror_mode": {
    "name": "ipython",
    "version": 3
   },
   "file_extension": ".py",
   "mimetype": "text/x-python",
   "name": "python",
   "nbconvert_exporter": "python",
   "pygments_lexer": "ipython3",
   "version": "3.8.16"
  },
  "orig_nbformat": 4
 },
 "nbformat": 4,
 "nbformat_minor": 2
}
